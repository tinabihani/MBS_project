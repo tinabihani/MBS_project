{
 "cells": [
  {
   "cell_type": "code",
   "execution_count": 1,
   "id": "88cd2e68",
   "metadata": {},
   "outputs": [],
   "source": [
    "import pandas as pd\n",
    "import seaborn as sns\n",
    "import numpy as np\n",
    "import matplotlib.pyplot as plt\n",
    "%matplotlib inline"
   ]
  },
  {
   "cell_type": "code",
   "execution_count": 3,
   "id": "05fa20d1",
   "metadata": {},
   "outputs": [],
   "source": [
    "data=pd.read_csv(\"LoanExport.csv\")"
   ]
  },
  {
   "cell_type": "code",
   "execution_count": 4,
   "id": "fdf7d883",
   "metadata": {},
   "outputs": [],
   "source": [
    "#understanding the data"
   ]
  },
  {
   "cell_type": "code",
   "execution_count": 5,
   "id": "3c67b355",
   "metadata": {},
   "outputs": [
    {
     "data": {
      "text/html": [
       "<div>\n",
       "<style scoped>\n",
       "    .dataframe tbody tr th:only-of-type {\n",
       "        vertical-align: middle;\n",
       "    }\n",
       "\n",
       "    .dataframe tbody tr th {\n",
       "        vertical-align: top;\n",
       "    }\n",
       "\n",
       "    .dataframe thead th {\n",
       "        text-align: right;\n",
       "    }\n",
       "</style>\n",
       "<table border=\"1\" class=\"dataframe\">\n",
       "  <thead>\n",
       "    <tr style=\"text-align: right;\">\n",
       "      <th></th>\n",
       "      <th>CreditScore</th>\n",
       "      <th>FirstPaymentDate</th>\n",
       "      <th>FirstTimeHomebuyer</th>\n",
       "      <th>MaturityDate</th>\n",
       "      <th>MSA</th>\n",
       "      <th>MIP</th>\n",
       "      <th>Units</th>\n",
       "      <th>Occupancy</th>\n",
       "      <th>OCLTV</th>\n",
       "      <th>DTI</th>\n",
       "      <th>...</th>\n",
       "      <th>PostalCode</th>\n",
       "      <th>LoanSeqNum</th>\n",
       "      <th>LoanPurpose</th>\n",
       "      <th>OrigLoanTerm</th>\n",
       "      <th>NumBorrowers</th>\n",
       "      <th>SellerName</th>\n",
       "      <th>ServicerName</th>\n",
       "      <th>EverDelinquent</th>\n",
       "      <th>MonthsDelinquent</th>\n",
       "      <th>MonthsInRepayment</th>\n",
       "    </tr>\n",
       "  </thead>\n",
       "  <tbody>\n",
       "    <tr>\n",
       "      <th>0</th>\n",
       "      <td>0</td>\n",
       "      <td>199902</td>\n",
       "      <td>N</td>\n",
       "      <td>202901</td>\n",
       "      <td>16974</td>\n",
       "      <td>25</td>\n",
       "      <td>1</td>\n",
       "      <td>O</td>\n",
       "      <td>89</td>\n",
       "      <td>27</td>\n",
       "      <td>...</td>\n",
       "      <td>60400</td>\n",
       "      <td>F199Q1268030</td>\n",
       "      <td>P</td>\n",
       "      <td>360</td>\n",
       "      <td>2</td>\n",
       "      <td>FL</td>\n",
       "      <td>WASHINGTONMUTUALBANK</td>\n",
       "      <td>0</td>\n",
       "      <td>0</td>\n",
       "      <td>52</td>\n",
       "    </tr>\n",
       "    <tr>\n",
       "      <th>1</th>\n",
       "      <td>0</td>\n",
       "      <td>199902</td>\n",
       "      <td>N</td>\n",
       "      <td>202901</td>\n",
       "      <td>19740</td>\n",
       "      <td>0</td>\n",
       "      <td>1</td>\n",
       "      <td>O</td>\n",
       "      <td>73</td>\n",
       "      <td>17</td>\n",
       "      <td>...</td>\n",
       "      <td>80200</td>\n",
       "      <td>F199Q1015092</td>\n",
       "      <td>N</td>\n",
       "      <td>360</td>\n",
       "      <td>1</td>\n",
       "      <td>FT</td>\n",
       "      <td>CHASEHOMEFINANCELLC</td>\n",
       "      <td>0</td>\n",
       "      <td>0</td>\n",
       "      <td>144</td>\n",
       "    </tr>\n",
       "    <tr>\n",
       "      <th>2</th>\n",
       "      <td>0</td>\n",
       "      <td>199902</td>\n",
       "      <td>N</td>\n",
       "      <td>202901</td>\n",
       "      <td>29940</td>\n",
       "      <td>0</td>\n",
       "      <td>1</td>\n",
       "      <td>O</td>\n",
       "      <td>75</td>\n",
       "      <td>16</td>\n",
       "      <td>...</td>\n",
       "      <td>66000</td>\n",
       "      <td>F199Q1266886</td>\n",
       "      <td>N</td>\n",
       "      <td>360</td>\n",
       "      <td>2</td>\n",
       "      <td>FL</td>\n",
       "      <td>WASHINGTONMUTUALBANK</td>\n",
       "      <td>0</td>\n",
       "      <td>0</td>\n",
       "      <td>67</td>\n",
       "    </tr>\n",
       "    <tr>\n",
       "      <th>3</th>\n",
       "      <td>0</td>\n",
       "      <td>199902</td>\n",
       "      <td>N</td>\n",
       "      <td>202901</td>\n",
       "      <td>31084</td>\n",
       "      <td>0</td>\n",
       "      <td>1</td>\n",
       "      <td>O</td>\n",
       "      <td>76</td>\n",
       "      <td>14</td>\n",
       "      <td>...</td>\n",
       "      <td>90700</td>\n",
       "      <td>F199Q1178167</td>\n",
       "      <td>N</td>\n",
       "      <td>360</td>\n",
       "      <td>2</td>\n",
       "      <td>GM</td>\n",
       "      <td>GMACMTGECORP</td>\n",
       "      <td>0</td>\n",
       "      <td>0</td>\n",
       "      <td>35</td>\n",
       "    </tr>\n",
       "    <tr>\n",
       "      <th>4</th>\n",
       "      <td>0</td>\n",
       "      <td>199902</td>\n",
       "      <td>N</td>\n",
       "      <td>202901</td>\n",
       "      <td>35644</td>\n",
       "      <td>0</td>\n",
       "      <td>1</td>\n",
       "      <td>O</td>\n",
       "      <td>78</td>\n",
       "      <td>18</td>\n",
       "      <td>...</td>\n",
       "      <td>7600</td>\n",
       "      <td>F199Q1178517</td>\n",
       "      <td>N</td>\n",
       "      <td>360</td>\n",
       "      <td>2</td>\n",
       "      <td>GM</td>\n",
       "      <td>GMACMTGECORP</td>\n",
       "      <td>0</td>\n",
       "      <td>0</td>\n",
       "      <td>54</td>\n",
       "    </tr>\n",
       "  </tbody>\n",
       "</table>\n",
       "<p>5 rows × 28 columns</p>\n",
       "</div>"
      ],
      "text/plain": [
       "   CreditScore  FirstPaymentDate FirstTimeHomebuyer  MaturityDate    MSA  MIP  \\\n",
       "0            0            199902                  N        202901  16974   25   \n",
       "1            0            199902                  N        202901  19740    0   \n",
       "2            0            199902                  N        202901  29940    0   \n",
       "3            0            199902                  N        202901  31084    0   \n",
       "4            0            199902                  N        202901  35644    0   \n",
       "\n",
       "   Units Occupancy  OCLTV  DTI  ...  PostalCode    LoanSeqNum  LoanPurpose  \\\n",
       "0      1         O     89   27  ...       60400  F199Q1268030            P   \n",
       "1      1         O     73   17  ...       80200  F199Q1015092            N   \n",
       "2      1         O     75   16  ...       66000  F199Q1266886            N   \n",
       "3      1         O     76   14  ...       90700  F199Q1178167            N   \n",
       "4      1         O     78   18  ...        7600  F199Q1178517            N   \n",
       "\n",
       "  OrigLoanTerm NumBorrowers SellerName          ServicerName EverDelinquent  \\\n",
       "0          360            2         FL  WASHINGTONMUTUALBANK              0   \n",
       "1          360            1         FT  CHASEHOMEFINANCELLC               0   \n",
       "2          360            2         FL  WASHINGTONMUTUALBANK              0   \n",
       "3          360            2         GM  GMACMTGECORP                      0   \n",
       "4          360            2         GM  GMACMTGECORP                      0   \n",
       "\n",
       "  MonthsDelinquent MonthsInRepayment  \n",
       "0                0                52  \n",
       "1                0               144  \n",
       "2                0                67  \n",
       "3                0                35  \n",
       "4                0                54  \n",
       "\n",
       "[5 rows x 28 columns]"
      ]
     },
     "execution_count": 5,
     "metadata": {},
     "output_type": "execute_result"
    }
   ],
   "source": [
    "data.head()"
   ]
  },
  {
   "cell_type": "code",
   "execution_count": 6,
   "id": "9f0a6ba7",
   "metadata": {},
   "outputs": [
    {
     "data": {
      "text/plain": [
       "(291451, 28)"
      ]
     },
     "execution_count": 6,
     "metadata": {},
     "output_type": "execute_result"
    }
   ],
   "source": [
    "data.shape"
   ]
  },
  {
   "cell_type": "code",
   "execution_count": 7,
   "id": "f699f46c",
   "metadata": {},
   "outputs": [
    {
     "data": {
      "text/html": [
       "<div>\n",
       "<style scoped>\n",
       "    .dataframe tbody tr th:only-of-type {\n",
       "        vertical-align: middle;\n",
       "    }\n",
       "\n",
       "    .dataframe tbody tr th {\n",
       "        vertical-align: top;\n",
       "    }\n",
       "\n",
       "    .dataframe thead th {\n",
       "        text-align: right;\n",
       "    }\n",
       "</style>\n",
       "<table border=\"1\" class=\"dataframe\">\n",
       "  <thead>\n",
       "    <tr style=\"text-align: right;\">\n",
       "      <th></th>\n",
       "      <th>CreditScore</th>\n",
       "      <th>FirstPaymentDate</th>\n",
       "      <th>MaturityDate</th>\n",
       "      <th>MIP</th>\n",
       "      <th>Units</th>\n",
       "      <th>OCLTV</th>\n",
       "      <th>DTI</th>\n",
       "      <th>OrigUPB</th>\n",
       "      <th>LTV</th>\n",
       "      <th>OrigInterestRate</th>\n",
       "      <th>OrigLoanTerm</th>\n",
       "      <th>EverDelinquent</th>\n",
       "      <th>MonthsDelinquent</th>\n",
       "      <th>MonthsInRepayment</th>\n",
       "    </tr>\n",
       "  </thead>\n",
       "  <tbody>\n",
       "    <tr>\n",
       "      <th>count</th>\n",
       "      <td>291451.000000</td>\n",
       "      <td>291451.000000</td>\n",
       "      <td>291451.000000</td>\n",
       "      <td>291451.000000</td>\n",
       "      <td>291451.000000</td>\n",
       "      <td>291451.000000</td>\n",
       "      <td>291451.000000</td>\n",
       "      <td>291451.000000</td>\n",
       "      <td>291451.000000</td>\n",
       "      <td>291451.000000</td>\n",
       "      <td>291451.000000</td>\n",
       "      <td>291451.000000</td>\n",
       "      <td>291451.000000</td>\n",
       "      <td>291451.000000</td>\n",
       "    </tr>\n",
       "    <tr>\n",
       "      <th>mean</th>\n",
       "      <td>708.936991</td>\n",
       "      <td>199904.760553</td>\n",
       "      <td>202902.367043</td>\n",
       "      <td>9.216685</td>\n",
       "      <td>1.026022</td>\n",
       "      <td>76.960529</td>\n",
       "      <td>30.033453</td>\n",
       "      <td>124940.387921</td>\n",
       "      <td>76.937986</td>\n",
       "      <td>6.926547</td>\n",
       "      <td>359.835375</td>\n",
       "      <td>0.197848</td>\n",
       "      <td>1.837729</td>\n",
       "      <td>60.805291</td>\n",
       "    </tr>\n",
       "    <tr>\n",
       "      <th>std</th>\n",
       "      <td>68.408791</td>\n",
       "      <td>13.821228</td>\n",
       "      <td>16.090508</td>\n",
       "      <td>12.648273</td>\n",
       "      <td>0.202986</td>\n",
       "      <td>15.236154</td>\n",
       "      <td>13.203974</td>\n",
       "      <td>53657.440624</td>\n",
       "      <td>15.225298</td>\n",
       "      <td>0.343541</td>\n",
       "      <td>2.286939</td>\n",
       "      <td>0.398378</td>\n",
       "      <td>8.809392</td>\n",
       "      <td>46.142599</td>\n",
       "    </tr>\n",
       "    <tr>\n",
       "      <th>min</th>\n",
       "      <td>0.000000</td>\n",
       "      <td>199901.000000</td>\n",
       "      <td>202402.000000</td>\n",
       "      <td>0.000000</td>\n",
       "      <td>0.000000</td>\n",
       "      <td>0.000000</td>\n",
       "      <td>0.000000</td>\n",
       "      <td>8000.000000</td>\n",
       "      <td>0.000000</td>\n",
       "      <td>4.000000</td>\n",
       "      <td>301.000000</td>\n",
       "      <td>0.000000</td>\n",
       "      <td>0.000000</td>\n",
       "      <td>1.000000</td>\n",
       "    </tr>\n",
       "    <tr>\n",
       "      <th>25%</th>\n",
       "      <td>675.000000</td>\n",
       "      <td>199903.000000</td>\n",
       "      <td>202902.000000</td>\n",
       "      <td>0.000000</td>\n",
       "      <td>1.000000</td>\n",
       "      <td>70.000000</td>\n",
       "      <td>22.000000</td>\n",
       "      <td>83000.000000</td>\n",
       "      <td>70.000000</td>\n",
       "      <td>6.750000</td>\n",
       "      <td>360.000000</td>\n",
       "      <td>0.000000</td>\n",
       "      <td>0.000000</td>\n",
       "      <td>34.000000</td>\n",
       "    </tr>\n",
       "    <tr>\n",
       "      <th>50%</th>\n",
       "      <td>717.000000</td>\n",
       "      <td>199904.000000</td>\n",
       "      <td>202903.000000</td>\n",
       "      <td>0.000000</td>\n",
       "      <td>1.000000</td>\n",
       "      <td>80.000000</td>\n",
       "      <td>31.000000</td>\n",
       "      <td>117000.000000</td>\n",
       "      <td>80.000000</td>\n",
       "      <td>6.875000</td>\n",
       "      <td>360.000000</td>\n",
       "      <td>0.000000</td>\n",
       "      <td>0.000000</td>\n",
       "      <td>48.000000</td>\n",
       "    </tr>\n",
       "    <tr>\n",
       "      <th>75%</th>\n",
       "      <td>753.000000</td>\n",
       "      <td>199905.000000</td>\n",
       "      <td>202904.000000</td>\n",
       "      <td>25.000000</td>\n",
       "      <td>1.000000</td>\n",
       "      <td>90.000000</td>\n",
       "      <td>39.000000</td>\n",
       "      <td>160000.000000</td>\n",
       "      <td>90.000000</td>\n",
       "      <td>7.125000</td>\n",
       "      <td>360.000000</td>\n",
       "      <td>0.000000</td>\n",
       "      <td>0.000000</td>\n",
       "      <td>63.000000</td>\n",
       "    </tr>\n",
       "    <tr>\n",
       "      <th>max</th>\n",
       "      <td>849.000000</td>\n",
       "      <td>201303.000000</td>\n",
       "      <td>204302.000000</td>\n",
       "      <td>55.000000</td>\n",
       "      <td>4.000000</td>\n",
       "      <td>110.000000</td>\n",
       "      <td>65.000000</td>\n",
       "      <td>497000.000000</td>\n",
       "      <td>103.000000</td>\n",
       "      <td>12.350000</td>\n",
       "      <td>361.000000</td>\n",
       "      <td>1.000000</td>\n",
       "      <td>180.000000</td>\n",
       "      <td>212.000000</td>\n",
       "    </tr>\n",
       "  </tbody>\n",
       "</table>\n",
       "</div>"
      ],
      "text/plain": [
       "         CreditScore  FirstPaymentDate   MaturityDate            MIP  \\\n",
       "count  291451.000000     291451.000000  291451.000000  291451.000000   \n",
       "mean      708.936991     199904.760553  202902.367043       9.216685   \n",
       "std        68.408791         13.821228      16.090508      12.648273   \n",
       "min         0.000000     199901.000000  202402.000000       0.000000   \n",
       "25%       675.000000     199903.000000  202902.000000       0.000000   \n",
       "50%       717.000000     199904.000000  202903.000000       0.000000   \n",
       "75%       753.000000     199905.000000  202904.000000      25.000000   \n",
       "max       849.000000     201303.000000  204302.000000      55.000000   \n",
       "\n",
       "               Units          OCLTV            DTI        OrigUPB  \\\n",
       "count  291451.000000  291451.000000  291451.000000  291451.000000   \n",
       "mean        1.026022      76.960529      30.033453  124940.387921   \n",
       "std         0.202986      15.236154      13.203974   53657.440624   \n",
       "min         0.000000       0.000000       0.000000    8000.000000   \n",
       "25%         1.000000      70.000000      22.000000   83000.000000   \n",
       "50%         1.000000      80.000000      31.000000  117000.000000   \n",
       "75%         1.000000      90.000000      39.000000  160000.000000   \n",
       "max         4.000000     110.000000      65.000000  497000.000000   \n",
       "\n",
       "                 LTV  OrigInterestRate   OrigLoanTerm  EverDelinquent  \\\n",
       "count  291451.000000     291451.000000  291451.000000   291451.000000   \n",
       "mean       76.937986          6.926547     359.835375        0.197848   \n",
       "std        15.225298          0.343541       2.286939        0.398378   \n",
       "min         0.000000          4.000000     301.000000        0.000000   \n",
       "25%        70.000000          6.750000     360.000000        0.000000   \n",
       "50%        80.000000          6.875000     360.000000        0.000000   \n",
       "75%        90.000000          7.125000     360.000000        0.000000   \n",
       "max       103.000000         12.350000     361.000000        1.000000   \n",
       "\n",
       "       MonthsDelinquent  MonthsInRepayment  \n",
       "count     291451.000000      291451.000000  \n",
       "mean           1.837729          60.805291  \n",
       "std            8.809392          46.142599  \n",
       "min            0.000000           1.000000  \n",
       "25%            0.000000          34.000000  \n",
       "50%            0.000000          48.000000  \n",
       "75%            0.000000          63.000000  \n",
       "max          180.000000         212.000000  "
      ]
     },
     "execution_count": 7,
     "metadata": {},
     "output_type": "execute_result"
    }
   ],
   "source": [
    "data.describe()"
   ]
  },
  {
   "cell_type": "code",
   "execution_count": 8,
   "id": "14b29cb3",
   "metadata": {
    "scrolled": false
   },
   "outputs": [
    {
     "data": {
      "text/plain": [
       "CreditScore              370\n",
       "FirstPaymentDate          66\n",
       "FirstTimeHomebuyer         3\n",
       "MaturityDate              96\n",
       "MSA                      392\n",
       "MIP                       37\n",
       "Units                      5\n",
       "Occupancy                  3\n",
       "OCLTV                    102\n",
       "DTI                       66\n",
       "OrigUPB                  375\n",
       "LTV                       97\n",
       "OrigInterestRate         254\n",
       "Channel                    4\n",
       "PPM                        3\n",
       "ProductType                1\n",
       "PropertyState             53\n",
       "PropertyType               7\n",
       "PostalCode              1767\n",
       "LoanSeqNum            291451\n",
       "LoanPurpose                3\n",
       "OrigLoanTerm              61\n",
       "NumBorrowers               3\n",
       "SellerName                20\n",
       "ServicerName              20\n",
       "EverDelinquent             2\n",
       "MonthsDelinquent         174\n",
       "MonthsInRepayment        212\n",
       "dtype: int64"
      ]
     },
     "execution_count": 8,
     "metadata": {},
     "output_type": "execute_result"
    }
   ],
   "source": [
    "data.nunique()"
   ]
  },
  {
   "cell_type": "code",
   "execution_count": 9,
   "id": "980d30e4",
   "metadata": {},
   "outputs": [],
   "source": [
    "#cleaning the data"
   ]
  },
  {
   "cell_type": "code",
   "execution_count": 10,
   "id": "5fa8fbd6",
   "metadata": {
    "scrolled": false
   },
   "outputs": [
    {
     "data": {
      "text/plain": [
       "CreditScore               0\n",
       "FirstPaymentDate          0\n",
       "FirstTimeHomebuyer        0\n",
       "MaturityDate              0\n",
       "MSA                       0\n",
       "MIP                       0\n",
       "Units                     0\n",
       "Occupancy                 0\n",
       "OCLTV                     0\n",
       "DTI                       0\n",
       "OrigUPB                   0\n",
       "LTV                       0\n",
       "OrigInterestRate          0\n",
       "Channel                   0\n",
       "PPM                       0\n",
       "ProductType               0\n",
       "PropertyState             0\n",
       "PropertyType              0\n",
       "PostalCode                0\n",
       "LoanSeqNum                0\n",
       "LoanPurpose               0\n",
       "OrigLoanTerm              0\n",
       "NumBorrowers              0\n",
       "SellerName            24994\n",
       "ServicerName              0\n",
       "EverDelinquent            0\n",
       "MonthsDelinquent          0\n",
       "MonthsInRepayment         0\n",
       "dtype: int64"
      ]
     },
     "execution_count": 10,
     "metadata": {},
     "output_type": "execute_result"
    }
   ],
   "source": [
    "data.isnull().sum()"
   ]
  },
  {
   "cell_type": "code",
   "execution_count": 11,
   "id": "34b18346",
   "metadata": {},
   "outputs": [],
   "source": [
    "# We can drop some columns as they are less important or have more percentage of missing values"
   ]
  },
  {
   "cell_type": "code",
   "execution_count": 12,
   "id": "62970b7e",
   "metadata": {},
   "outputs": [],
   "source": [
    "data=data.drop(['FirstPaymentDate','MaturityDate','MSA','Occupancy','Channel','PPM','ProductType','PropertyState',\n",
    "                'PropertyType','PostalCode','LoanSeqNum','LoanPurpose','NumBorrowers','SellerName','ServicerName'],axis=1)"
   ]
  },
  {
   "cell_type": "code",
   "execution_count": 13,
   "id": "1d053c99",
   "metadata": {},
   "outputs": [
    {
     "data": {
      "text/html": [
       "<div>\n",
       "<style scoped>\n",
       "    .dataframe tbody tr th:only-of-type {\n",
       "        vertical-align: middle;\n",
       "    }\n",
       "\n",
       "    .dataframe tbody tr th {\n",
       "        vertical-align: top;\n",
       "    }\n",
       "\n",
       "    .dataframe thead th {\n",
       "        text-align: right;\n",
       "    }\n",
       "</style>\n",
       "<table border=\"1\" class=\"dataframe\">\n",
       "  <thead>\n",
       "    <tr style=\"text-align: right;\">\n",
       "      <th></th>\n",
       "      <th>CreditScore</th>\n",
       "      <th>FirstTimeHomebuyer</th>\n",
       "      <th>MIP</th>\n",
       "      <th>Units</th>\n",
       "      <th>OCLTV</th>\n",
       "      <th>DTI</th>\n",
       "      <th>OrigUPB</th>\n",
       "      <th>LTV</th>\n",
       "      <th>OrigInterestRate</th>\n",
       "      <th>OrigLoanTerm</th>\n",
       "      <th>EverDelinquent</th>\n",
       "      <th>MonthsDelinquent</th>\n",
       "      <th>MonthsInRepayment</th>\n",
       "    </tr>\n",
       "  </thead>\n",
       "  <tbody>\n",
       "    <tr>\n",
       "      <th>0</th>\n",
       "      <td>0</td>\n",
       "      <td>N</td>\n",
       "      <td>25</td>\n",
       "      <td>1</td>\n",
       "      <td>89</td>\n",
       "      <td>27</td>\n",
       "      <td>117000</td>\n",
       "      <td>89</td>\n",
       "      <td>6.750</td>\n",
       "      <td>360</td>\n",
       "      <td>0</td>\n",
       "      <td>0</td>\n",
       "      <td>52</td>\n",
       "    </tr>\n",
       "    <tr>\n",
       "      <th>1</th>\n",
       "      <td>0</td>\n",
       "      <td>N</td>\n",
       "      <td>0</td>\n",
       "      <td>1</td>\n",
       "      <td>73</td>\n",
       "      <td>17</td>\n",
       "      <td>109000</td>\n",
       "      <td>73</td>\n",
       "      <td>6.500</td>\n",
       "      <td>360</td>\n",
       "      <td>0</td>\n",
       "      <td>0</td>\n",
       "      <td>144</td>\n",
       "    </tr>\n",
       "    <tr>\n",
       "      <th>2</th>\n",
       "      <td>0</td>\n",
       "      <td>N</td>\n",
       "      <td>0</td>\n",
       "      <td>1</td>\n",
       "      <td>75</td>\n",
       "      <td>16</td>\n",
       "      <td>88000</td>\n",
       "      <td>75</td>\n",
       "      <td>6.875</td>\n",
       "      <td>360</td>\n",
       "      <td>0</td>\n",
       "      <td>0</td>\n",
       "      <td>67</td>\n",
       "    </tr>\n",
       "    <tr>\n",
       "      <th>3</th>\n",
       "      <td>0</td>\n",
       "      <td>N</td>\n",
       "      <td>0</td>\n",
       "      <td>1</td>\n",
       "      <td>76</td>\n",
       "      <td>14</td>\n",
       "      <td>160000</td>\n",
       "      <td>76</td>\n",
       "      <td>6.875</td>\n",
       "      <td>360</td>\n",
       "      <td>0</td>\n",
       "      <td>0</td>\n",
       "      <td>35</td>\n",
       "    </tr>\n",
       "    <tr>\n",
       "      <th>4</th>\n",
       "      <td>0</td>\n",
       "      <td>N</td>\n",
       "      <td>0</td>\n",
       "      <td>1</td>\n",
       "      <td>78</td>\n",
       "      <td>18</td>\n",
       "      <td>109000</td>\n",
       "      <td>78</td>\n",
       "      <td>7.125</td>\n",
       "      <td>360</td>\n",
       "      <td>0</td>\n",
       "      <td>0</td>\n",
       "      <td>54</td>\n",
       "    </tr>\n",
       "  </tbody>\n",
       "</table>\n",
       "</div>"
      ],
      "text/plain": [
       "   CreditScore FirstTimeHomebuyer  MIP  Units  OCLTV  DTI  OrigUPB  LTV  \\\n",
       "0            0                  N   25      1     89   27   117000   89   \n",
       "1            0                  N    0      1     73   17   109000   73   \n",
       "2            0                  N    0      1     75   16    88000   75   \n",
       "3            0                  N    0      1     76   14   160000   76   \n",
       "4            0                  N    0      1     78   18   109000   78   \n",
       "\n",
       "   OrigInterestRate  OrigLoanTerm  EverDelinquent  MonthsDelinquent  \\\n",
       "0             6.750           360               0                 0   \n",
       "1             6.500           360               0                 0   \n",
       "2             6.875           360               0                 0   \n",
       "3             6.875           360               0                 0   \n",
       "4             7.125           360               0                 0   \n",
       "\n",
       "   MonthsInRepayment  \n",
       "0                 52  \n",
       "1                144  \n",
       "2                 67  \n",
       "3                 35  \n",
       "4                 54  "
      ]
     },
     "execution_count": 13,
     "metadata": {},
     "output_type": "execute_result"
    }
   ],
   "source": [
    "data.head()"
   ]
  },
  {
   "cell_type": "code",
   "execution_count": 14,
   "id": "7b1551c7",
   "metadata": {},
   "outputs": [
    {
     "data": {
      "text/plain": [
       "array([  0, 335, 342, 363, 366, 370, 375, 391, 396, 445, 462, 466, 471,\n",
       "       476, 477, 478, 479, 481, 482, 483, 485, 486, 487, 489, 490, 491,\n",
       "       492, 493, 494, 495, 496, 497, 498, 499, 500, 501, 502, 503, 504,\n",
       "       505, 506, 507, 508, 509, 510, 511, 512, 513, 514, 515, 516, 517,\n",
       "       518, 519, 520, 521, 522, 523, 524, 525, 526, 527, 528, 529, 530,\n",
       "       531, 532, 533, 534, 535, 536, 537, 538, 539, 540, 541, 542, 543,\n",
       "       544, 545, 546, 547, 548, 549, 550, 551, 552, 553, 554, 555, 556,\n",
       "       557, 558, 559, 560, 561, 562, 563, 564, 565, 566, 567, 568, 569,\n",
       "       570, 571, 572, 573, 574, 575, 576, 577, 578, 579, 580, 581, 582,\n",
       "       583, 584, 585, 586, 587, 588, 589, 590, 591, 592, 593, 594, 595,\n",
       "       596, 597, 598, 599, 600, 601, 602, 603, 604, 605, 606, 607, 608,\n",
       "       609, 610, 611, 612, 613, 614, 615, 616, 617, 618, 619, 620, 621,\n",
       "       622, 623, 624, 625, 626, 627, 628, 629, 630, 631, 632, 633, 634,\n",
       "       635, 636, 637, 638, 639, 640, 641, 642, 643, 644, 645, 646, 647,\n",
       "       648, 649, 650, 651, 652, 653, 654, 655, 656, 657, 658, 659, 660,\n",
       "       661, 662, 663, 664, 665, 666, 667, 668, 669, 670, 671, 672, 673,\n",
       "       674, 675, 676, 677, 678, 679, 680, 681, 682, 683, 684, 685, 686,\n",
       "       687, 688, 689, 690, 691, 692, 693, 694, 695, 696, 697, 698, 699,\n",
       "       700, 701, 702, 703, 704, 705, 706, 707, 708, 709, 710, 711, 712,\n",
       "       713, 714, 715, 716, 717, 718, 719, 720, 721, 722, 723, 724, 725,\n",
       "       726, 727, 728, 729, 730, 731, 732, 733, 734, 735, 736, 737, 738,\n",
       "       739, 740, 741, 742, 743, 744, 745, 746, 747, 748, 749, 750, 751,\n",
       "       752, 753, 754, 755, 756, 757, 758, 759, 760, 761, 762, 763, 764,\n",
       "       765, 766, 767, 768, 769, 770, 771, 772, 773, 774, 775, 776, 777,\n",
       "       778, 779, 780, 781, 782, 783, 784, 785, 786, 787, 788, 789, 790,\n",
       "       791, 792, 793, 794, 795, 796, 797, 798, 799, 800, 801, 802, 803,\n",
       "       804, 805, 806, 807, 808, 809, 810, 811, 812, 813, 814, 815, 816,\n",
       "       817, 818, 819, 820, 822, 823, 825, 826, 827, 828, 829, 831, 835,\n",
       "       837, 838, 839, 840, 845, 849], dtype=int64)"
      ]
     },
     "execution_count": 14,
     "metadata": {},
     "output_type": "execute_result"
    }
   ],
   "source": [
    "# Investigate the unique values in all the columns\n",
    "data.CreditScore.unique()"
   ]
  },
  {
   "cell_type": "code",
   "execution_count": 15,
   "id": "5d631092",
   "metadata": {},
   "outputs": [
    {
     "data": {
      "text/plain": [
       "array([850, 335, 342, 363, 366, 370, 375, 391, 396, 445, 462, 466, 471,\n",
       "       476, 477, 478, 479, 481, 482, 483, 485, 486, 487, 489, 490, 491,\n",
       "       492, 493, 494, 495, 496, 497, 498, 499, 500, 501, 502, 503, 504,\n",
       "       505, 506, 507, 508, 509, 510, 511, 512, 513, 514, 515, 516, 517,\n",
       "       518, 519, 520, 521, 522, 523, 524, 525, 526, 527, 528, 529, 530,\n",
       "       531, 532, 533, 534, 535, 536, 537, 538, 539, 540, 541, 542, 543,\n",
       "       544, 545, 546, 547, 548, 549, 550, 551, 552, 553, 554, 555, 556,\n",
       "       557, 558, 559, 560, 561, 562, 563, 564, 565, 566, 567, 568, 569,\n",
       "       570, 571, 572, 573, 574, 575, 576, 577, 578, 579, 580, 581, 582,\n",
       "       583, 584, 585, 586, 587, 588, 589, 590, 591, 592, 593, 594, 595,\n",
       "       596, 597, 598, 599, 600, 601, 602, 603, 604, 605, 606, 607, 608,\n",
       "       609, 610, 611, 612, 613, 614, 615, 616, 617, 618, 619, 620, 621,\n",
       "       622, 623, 624, 625, 626, 627, 628, 629, 630, 631, 632, 633, 634,\n",
       "       635, 636, 637, 638, 639, 640, 641, 642, 643, 644, 645, 646, 647,\n",
       "       648, 649, 650, 651, 652, 653, 654, 655, 656, 657, 658, 659, 660,\n",
       "       661, 662, 663, 664, 665, 666, 667, 668, 669, 670, 671, 672, 673,\n",
       "       674, 675, 676, 677, 678, 679, 680, 681, 682, 683, 684, 685, 686,\n",
       "       687, 688, 689, 690, 691, 692, 693, 694, 695, 696, 697, 698, 699,\n",
       "       700, 701, 702, 703, 704, 705, 706, 707, 708, 709, 710, 711, 712,\n",
       "       713, 714, 715, 716, 717, 718, 719, 720, 721, 722, 723, 724, 725,\n",
       "       726, 727, 728, 729, 730, 731, 732, 733, 734, 735, 736, 737, 738,\n",
       "       739, 740, 741, 742, 743, 744, 745, 746, 747, 748, 749, 750, 751,\n",
       "       752, 753, 754, 755, 756, 757, 758, 759, 760, 761, 762, 763, 764,\n",
       "       765, 766, 767, 768, 769, 770, 771, 772, 773, 774, 775, 776, 777,\n",
       "       778, 779, 780, 781, 782, 783, 784, 785, 786, 787, 788, 789, 790,\n",
       "       791, 792, 793, 794, 795, 796, 797, 798, 799, 800, 801, 802, 803,\n",
       "       804, 805, 806, 807, 808, 809, 810, 811, 812, 813, 814, 815, 816,\n",
       "       817, 818, 819, 820, 822, 823, 825, 826, 827, 828, 829, 831, 835,\n",
       "       837, 838, 839, 840, 845, 849], dtype=int64)"
      ]
     },
     "execution_count": 15,
     "metadata": {},
     "output_type": "execute_result"
    }
   ],
   "source": [
    "# CreditScore contains a 0 which the data definition states is actually 850 so we will convert all 0s to 850.\n",
    "data['CreditScore'] = np.where(data['CreditScore'] == 0, 850, data['CreditScore'])\n",
    "data.CreditScore.unique()"
   ]
  },
  {
   "cell_type": "code",
   "execution_count": 16,
   "id": "4323b0f1",
   "metadata": {},
   "outputs": [
    {
     "data": {
      "text/plain": [
       "array(['N', 'X', 'Y'], dtype=object)"
      ]
     },
     "execution_count": 16,
     "metadata": {},
     "output_type": "execute_result"
    }
   ],
   "source": [
    "data.FirstTimeHomebuyer.unique()"
   ]
  },
  {
   "cell_type": "code",
   "execution_count": 17,
   "id": "88501123",
   "metadata": {},
   "outputs": [
    {
     "data": {
      "text/plain": [
       "array(['N', 'Y'], dtype=object)"
      ]
     },
     "execution_count": 17,
     "metadata": {},
     "output_type": "execute_result"
    }
   ],
   "source": [
    "# all rows containing FirstTimeHomebuyer as 'X' should be removed as it is null.\n",
    "data = data[data.FirstTimeHomebuyer != 'X']\n",
    "data.FirstTimeHomebuyer.unique()"
   ]
  },
  {
   "cell_type": "code",
   "execution_count": 18,
   "id": "9bf3a847",
   "metadata": {},
   "outputs": [
    {
     "data": {
      "text/plain": [
       "N    184154\n",
       "Y     29282\n",
       "Name: FirstTimeHomebuyer, dtype: int64"
      ]
     },
     "execution_count": 18,
     "metadata": {},
     "output_type": "execute_result"
    }
   ],
   "source": [
    "data['FirstTimeHomebuyer'].value_counts()"
   ]
  },
  {
   "cell_type": "code",
   "execution_count": 19,
   "id": "dbd92f4e",
   "metadata": {},
   "outputs": [
    {
     "data": {
      "text/plain": [
       "0    184154\n",
       "1     29282\n",
       "Name: IsFirstTime, dtype: int64"
      ]
     },
     "execution_count": 19,
     "metadata": {},
     "output_type": "execute_result"
    }
   ],
   "source": [
    "# Renaming FirstTimeHomebuyer to IsFirstTime and CreditScore to CS\n",
    "data = data.rename(columns = {'FirstTimeHomebuyer':'IsFirstTime'})\n",
    "data = data.rename(columns = {'CreditScore':'CS'})\n",
    "# Converting Y/N to 1 or 0 and then counting values again to ensure they match\n",
    "data['IsFirstTime'] = np.where(data['IsFirstTime'] == 'Y', 1, 0)\n",
    "data['IsFirstTime'].value_counts()"
   ]
  },
  {
   "cell_type": "code",
   "execution_count": 20,
   "id": "e34c6ce1",
   "metadata": {},
   "outputs": [
    {
     "data": {
      "text/plain": [
       "array([1, 2, 3, 4, 0], dtype=int64)"
      ]
     },
     "execution_count": 20,
     "metadata": {},
     "output_type": "execute_result"
    }
   ],
   "source": [
    "data.Units.unique()"
   ]
  },
  {
   "cell_type": "code",
   "execution_count": 21,
   "id": "d5827ee4",
   "metadata": {},
   "outputs": [],
   "source": [
    "# Here 0 values of Units are null values and need to be removed\n",
    "data = data[data.Units != 0]"
   ]
  },
  {
   "cell_type": "code",
   "execution_count": 22,
   "id": "97e6fcbc",
   "metadata": {},
   "outputs": [
    {
     "data": {
      "text/plain": [
       "1    209501\n",
       "2      3242\n",
       "3       346\n",
       "4       345\n",
       "Name: Units, dtype: int64"
      ]
     },
     "execution_count": 22,
     "metadata": {},
     "output_type": "execute_result"
    }
   ],
   "source": [
    "data.Units.value_counts()"
   ]
  },
  {
   "cell_type": "code",
   "execution_count": 23,
   "id": "a451f454",
   "metadata": {},
   "outputs": [
    {
     "data": {
      "text/plain": [
       "[4, NaN, 1, 2, 3]\n",
       "Categories (4, int64): [1 < 2 < 3 < 4]"
      ]
     },
     "execution_count": 23,
     "metadata": {},
     "output_type": "execute_result"
    }
   ],
   "source": [
    "# Create new variable for Credit Range since that is commonly what is looked at in the industry.\n",
    "# New values = Poor (0-650), Fair (650-700), Good (700-750), Excellent (750-900)\n",
    "data['CreditRange'] = pd.cut(data.CS,[550,650,700,750,1e6],4,labels=[1,2,3,4])\n",
    "data.CreditRange.unique()"
   ]
  },
  {
   "cell_type": "code",
   "execution_count": 24,
   "id": "46b8d324",
   "metadata": {},
   "outputs": [
    {
     "data": {
      "text/plain": [
       "3    72678\n",
       "4    57183\n",
       "2    54763\n",
       "1    28284\n",
       "Name: CreditRange, dtype: int64"
      ]
     },
     "execution_count": 24,
     "metadata": {},
     "output_type": "execute_result"
    }
   ],
   "source": [
    "data['CreditRange'].value_counts()"
   ]
  },
  {
   "cell_type": "code",
   "execution_count": 25,
   "id": "e1bf71c8",
   "metadata": {},
   "outputs": [
    {
     "data": {
      "text/plain": [
       "array([ 89,  73,  75,  76,  78,  90,  95,  80,  77,  85,  93,  70,  74,\n",
       "        79,  72,  62,  44,  32,  64,  91,  53,  69,  60,  54,  52,  84,\n",
       "        68,  36,  55,  96,  97,  46,  58,  63,  83,  87,  94,  48,  50,\n",
       "        51,  67,  86,  81,  66,  71,  82,  88,  26,  59,  57,  61,  30,\n",
       "        24,  34,  37,  42,  65,  31,   7,  38,  39,  16,  41,  33,  92,\n",
       "        40,  35,  56,  22,  28,  43,  47, 100,  49,  98,  29,  45,  25,\n",
       "        10,  18,  23,  20,  15, 103,  14,  21,  27,  19,   8,   0,  17,\n",
       "        12,   6,  13,   9,  11], dtype=int64)"
      ]
     },
     "execution_count": 25,
     "metadata": {},
     "output_type": "execute_result"
    }
   ],
   "source": [
    "# Create new variable for LTV Range\n",
    "data['LTV_range'] = pd.cut(data.LTV,[0,25,50,1000],3,labels=['Low','Medium','High'])\n",
    "data.LTV.unique()"
   ]
  },
  {
   "cell_type": "code",
   "execution_count": 26,
   "id": "1a46f9b7",
   "metadata": {},
   "outputs": [
    {
     "name": "stdout",
     "output_type": "stream",
     "text": [
      "Dataframe shape: (213434, 16)\n",
      "Repay_range values: ['4-8yrs', '8-12yrs', '0-4yrs', '16-20yrs', '12-16yrs']\n",
      "Categories (5, object): ['0-4yrs' < '4-8yrs' < '8-12yrs' < '12-16yrs' < '16-20yrs']\n"
     ]
    },
    {
     "data": {
      "text/plain": [
       "0-4yrs      108941\n",
       "4-8yrs       73648\n",
       "8-12yrs      13911\n",
       "12-16yrs      8755\n",
       "16-20yrs      8179\n",
       "Name: Repay_range, dtype: int64"
      ]
     },
     "execution_count": 26,
     "metadata": {},
     "output_type": "execute_result"
    }
   ],
   "source": [
    "# Create new variable Repay range\n",
    "data['Repay_range'] = pd.cut(data.MonthsInRepayment,[0,48,96,144,192,240],5,\n",
    "                           labels=['0-4yrs','4-8yrs','8-12yrs', '12-16yrs', '16-20yrs'])\n",
    "print('Dataframe shape:', data.shape)\n",
    "print('Repay_range values:', data.Repay_range.unique())\n",
    "data['Repay_range'].value_counts()"
   ]
  },
  {
   "cell_type": "code",
   "execution_count": 27,
   "id": "f71d7bbc",
   "metadata": {},
   "outputs": [
    {
     "data": {
      "text/plain": [
       "CS                     0\n",
       "IsFirstTime            0\n",
       "MIP                    0\n",
       "Units                  0\n",
       "OCLTV                  0\n",
       "DTI                    0\n",
       "OrigUPB                0\n",
       "LTV                    0\n",
       "OrigInterestRate       0\n",
       "OrigLoanTerm           0\n",
       "EverDelinquent         0\n",
       "MonthsDelinquent       0\n",
       "MonthsInRepayment      0\n",
       "CreditRange          526\n",
       "LTV_range              3\n",
       "Repay_range            0\n",
       "dtype: int64"
      ]
     },
     "execution_count": 27,
     "metadata": {},
     "output_type": "execute_result"
    }
   ],
   "source": [
    "data.isnull().sum()"
   ]
  },
  {
   "cell_type": "code",
   "execution_count": 28,
   "id": "93e436a8",
   "metadata": {},
   "outputs": [
    {
     "data": {
      "text/html": [
       "<div>\n",
       "<style scoped>\n",
       "    .dataframe tbody tr th:only-of-type {\n",
       "        vertical-align: middle;\n",
       "    }\n",
       "\n",
       "    .dataframe tbody tr th {\n",
       "        vertical-align: top;\n",
       "    }\n",
       "\n",
       "    .dataframe thead th {\n",
       "        text-align: right;\n",
       "    }\n",
       "</style>\n",
       "<table border=\"1\" class=\"dataframe\">\n",
       "  <thead>\n",
       "    <tr style=\"text-align: right;\">\n",
       "      <th></th>\n",
       "      <th>CS</th>\n",
       "      <th>IsFirstTime</th>\n",
       "      <th>MIP</th>\n",
       "      <th>Units</th>\n",
       "      <th>OCLTV</th>\n",
       "      <th>DTI</th>\n",
       "      <th>OrigUPB</th>\n",
       "      <th>LTV</th>\n",
       "      <th>OrigInterestRate</th>\n",
       "      <th>OrigLoanTerm</th>\n",
       "      <th>EverDelinquent</th>\n",
       "      <th>MonthsDelinquent</th>\n",
       "      <th>MonthsInRepayment</th>\n",
       "      <th>CreditRange</th>\n",
       "      <th>LTV_range</th>\n",
       "      <th>Repay_range</th>\n",
       "    </tr>\n",
       "  </thead>\n",
       "  <tbody>\n",
       "    <tr>\n",
       "      <th>0</th>\n",
       "      <td>850</td>\n",
       "      <td>0</td>\n",
       "      <td>25</td>\n",
       "      <td>1</td>\n",
       "      <td>89</td>\n",
       "      <td>27</td>\n",
       "      <td>117000</td>\n",
       "      <td>89</td>\n",
       "      <td>6.750</td>\n",
       "      <td>360</td>\n",
       "      <td>0</td>\n",
       "      <td>0</td>\n",
       "      <td>52</td>\n",
       "      <td>4</td>\n",
       "      <td>High</td>\n",
       "      <td>4-8yrs</td>\n",
       "    </tr>\n",
       "    <tr>\n",
       "      <th>1</th>\n",
       "      <td>850</td>\n",
       "      <td>0</td>\n",
       "      <td>0</td>\n",
       "      <td>1</td>\n",
       "      <td>73</td>\n",
       "      <td>17</td>\n",
       "      <td>109000</td>\n",
       "      <td>73</td>\n",
       "      <td>6.500</td>\n",
       "      <td>360</td>\n",
       "      <td>0</td>\n",
       "      <td>0</td>\n",
       "      <td>144</td>\n",
       "      <td>4</td>\n",
       "      <td>High</td>\n",
       "      <td>8-12yrs</td>\n",
       "    </tr>\n",
       "    <tr>\n",
       "      <th>2</th>\n",
       "      <td>850</td>\n",
       "      <td>0</td>\n",
       "      <td>0</td>\n",
       "      <td>1</td>\n",
       "      <td>75</td>\n",
       "      <td>16</td>\n",
       "      <td>88000</td>\n",
       "      <td>75</td>\n",
       "      <td>6.875</td>\n",
       "      <td>360</td>\n",
       "      <td>0</td>\n",
       "      <td>0</td>\n",
       "      <td>67</td>\n",
       "      <td>4</td>\n",
       "      <td>High</td>\n",
       "      <td>4-8yrs</td>\n",
       "    </tr>\n",
       "    <tr>\n",
       "      <th>3</th>\n",
       "      <td>850</td>\n",
       "      <td>0</td>\n",
       "      <td>0</td>\n",
       "      <td>1</td>\n",
       "      <td>76</td>\n",
       "      <td>14</td>\n",
       "      <td>160000</td>\n",
       "      <td>76</td>\n",
       "      <td>6.875</td>\n",
       "      <td>360</td>\n",
       "      <td>0</td>\n",
       "      <td>0</td>\n",
       "      <td>35</td>\n",
       "      <td>4</td>\n",
       "      <td>High</td>\n",
       "      <td>0-4yrs</td>\n",
       "    </tr>\n",
       "    <tr>\n",
       "      <th>4</th>\n",
       "      <td>850</td>\n",
       "      <td>0</td>\n",
       "      <td>0</td>\n",
       "      <td>1</td>\n",
       "      <td>78</td>\n",
       "      <td>18</td>\n",
       "      <td>109000</td>\n",
       "      <td>78</td>\n",
       "      <td>7.125</td>\n",
       "      <td>360</td>\n",
       "      <td>0</td>\n",
       "      <td>0</td>\n",
       "      <td>54</td>\n",
       "      <td>4</td>\n",
       "      <td>High</td>\n",
       "      <td>4-8yrs</td>\n",
       "    </tr>\n",
       "    <tr>\n",
       "      <th>...</th>\n",
       "      <td>...</td>\n",
       "      <td>...</td>\n",
       "      <td>...</td>\n",
       "      <td>...</td>\n",
       "      <td>...</td>\n",
       "      <td>...</td>\n",
       "      <td>...</td>\n",
       "      <td>...</td>\n",
       "      <td>...</td>\n",
       "      <td>...</td>\n",
       "      <td>...</td>\n",
       "      <td>...</td>\n",
       "      <td>...</td>\n",
       "      <td>...</td>\n",
       "      <td>...</td>\n",
       "      <td>...</td>\n",
       "    </tr>\n",
       "    <tr>\n",
       "      <th>291446</th>\n",
       "      <td>839</td>\n",
       "      <td>0</td>\n",
       "      <td>0</td>\n",
       "      <td>1</td>\n",
       "      <td>60</td>\n",
       "      <td>32</td>\n",
       "      <td>90000</td>\n",
       "      <td>60</td>\n",
       "      <td>7.000</td>\n",
       "      <td>360</td>\n",
       "      <td>0</td>\n",
       "      <td>0</td>\n",
       "      <td>12</td>\n",
       "      <td>4</td>\n",
       "      <td>High</td>\n",
       "      <td>0-4yrs</td>\n",
       "    </tr>\n",
       "    <tr>\n",
       "      <th>291447</th>\n",
       "      <td>840</td>\n",
       "      <td>0</td>\n",
       "      <td>0</td>\n",
       "      <td>1</td>\n",
       "      <td>73</td>\n",
       "      <td>0</td>\n",
       "      <td>267000</td>\n",
       "      <td>73</td>\n",
       "      <td>6.375</td>\n",
       "      <td>319</td>\n",
       "      <td>0</td>\n",
       "      <td>0</td>\n",
       "      <td>53</td>\n",
       "      <td>4</td>\n",
       "      <td>High</td>\n",
       "      <td>4-8yrs</td>\n",
       "    </tr>\n",
       "    <tr>\n",
       "      <th>291448</th>\n",
       "      <td>840</td>\n",
       "      <td>0</td>\n",
       "      <td>0</td>\n",
       "      <td>1</td>\n",
       "      <td>73</td>\n",
       "      <td>31</td>\n",
       "      <td>87000</td>\n",
       "      <td>73</td>\n",
       "      <td>5.625</td>\n",
       "      <td>313</td>\n",
       "      <td>0</td>\n",
       "      <td>0</td>\n",
       "      <td>38</td>\n",
       "      <td>4</td>\n",
       "      <td>High</td>\n",
       "      <td>0-4yrs</td>\n",
       "    </tr>\n",
       "    <tr>\n",
       "      <th>291449</th>\n",
       "      <td>845</td>\n",
       "      <td>0</td>\n",
       "      <td>0</td>\n",
       "      <td>1</td>\n",
       "      <td>80</td>\n",
       "      <td>54</td>\n",
       "      <td>88000</td>\n",
       "      <td>80</td>\n",
       "      <td>7.000</td>\n",
       "      <td>360</td>\n",
       "      <td>0</td>\n",
       "      <td>0</td>\n",
       "      <td>32</td>\n",
       "      <td>4</td>\n",
       "      <td>High</td>\n",
       "      <td>0-4yrs</td>\n",
       "    </tr>\n",
       "    <tr>\n",
       "      <th>291450</th>\n",
       "      <td>849</td>\n",
       "      <td>0</td>\n",
       "      <td>0</td>\n",
       "      <td>1</td>\n",
       "      <td>47</td>\n",
       "      <td>29</td>\n",
       "      <td>70000</td>\n",
       "      <td>47</td>\n",
       "      <td>7.000</td>\n",
       "      <td>360</td>\n",
       "      <td>0</td>\n",
       "      <td>0</td>\n",
       "      <td>29</td>\n",
       "      <td>4</td>\n",
       "      <td>Medium</td>\n",
       "      <td>0-4yrs</td>\n",
       "    </tr>\n",
       "  </tbody>\n",
       "</table>\n",
       "<p>212905 rows × 16 columns</p>\n",
       "</div>"
      ],
      "text/plain": [
       "         CS  IsFirstTime  MIP  Units  OCLTV  DTI  OrigUPB  LTV  \\\n",
       "0       850            0   25      1     89   27   117000   89   \n",
       "1       850            0    0      1     73   17   109000   73   \n",
       "2       850            0    0      1     75   16    88000   75   \n",
       "3       850            0    0      1     76   14   160000   76   \n",
       "4       850            0    0      1     78   18   109000   78   \n",
       "...     ...          ...  ...    ...    ...  ...      ...  ...   \n",
       "291446  839            0    0      1     60   32    90000   60   \n",
       "291447  840            0    0      1     73    0   267000   73   \n",
       "291448  840            0    0      1     73   31    87000   73   \n",
       "291449  845            0    0      1     80   54    88000   80   \n",
       "291450  849            0    0      1     47   29    70000   47   \n",
       "\n",
       "        OrigInterestRate  OrigLoanTerm  EverDelinquent  MonthsDelinquent  \\\n",
       "0                  6.750           360               0                 0   \n",
       "1                  6.500           360               0                 0   \n",
       "2                  6.875           360               0                 0   \n",
       "3                  6.875           360               0                 0   \n",
       "4                  7.125           360               0                 0   \n",
       "...                  ...           ...             ...               ...   \n",
       "291446             7.000           360               0                 0   \n",
       "291447             6.375           319               0                 0   \n",
       "291448             5.625           313               0                 0   \n",
       "291449             7.000           360               0                 0   \n",
       "291450             7.000           360               0                 0   \n",
       "\n",
       "        MonthsInRepayment CreditRange LTV_range Repay_range  \n",
       "0                      52           4      High      4-8yrs  \n",
       "1                     144           4      High     8-12yrs  \n",
       "2                      67           4      High      4-8yrs  \n",
       "3                      35           4      High      0-4yrs  \n",
       "4                      54           4      High      4-8yrs  \n",
       "...                   ...         ...       ...         ...  \n",
       "291446                 12           4      High      0-4yrs  \n",
       "291447                 53           4      High      4-8yrs  \n",
       "291448                 38           4      High      0-4yrs  \n",
       "291449                 32           4      High      0-4yrs  \n",
       "291450                 29           4    Medium      0-4yrs  \n",
       "\n",
       "[212905 rows x 16 columns]"
      ]
     },
     "execution_count": 28,
     "metadata": {},
     "output_type": "execute_result"
    }
   ],
   "source": [
    "data.dropna()"
   ]
  },
  {
   "cell_type": "code",
   "execution_count": 29,
   "id": "6c218175",
   "metadata": {},
   "outputs": [
    {
     "data": {
      "text/html": [
       "<div>\n",
       "<style scoped>\n",
       "    .dataframe tbody tr th:only-of-type {\n",
       "        vertical-align: middle;\n",
       "    }\n",
       "\n",
       "    .dataframe tbody tr th {\n",
       "        vertical-align: top;\n",
       "    }\n",
       "\n",
       "    .dataframe thead tr th {\n",
       "        text-align: left;\n",
       "    }\n",
       "\n",
       "    .dataframe thead tr:last-of-type th {\n",
       "        text-align: right;\n",
       "    }\n",
       "</style>\n",
       "<table border=\"1\" class=\"dataframe\">\n",
       "  <thead>\n",
       "    <tr>\n",
       "      <th></th>\n",
       "      <th></th>\n",
       "      <th></th>\n",
       "      <th></th>\n",
       "      <th colspan=\"8\" halign=\"left\">CS</th>\n",
       "      <th colspan=\"2\" halign=\"left\">MIP</th>\n",
       "      <th>...</th>\n",
       "      <th colspan=\"2\" halign=\"left\">MonthsDelinquent</th>\n",
       "      <th colspan=\"8\" halign=\"left\">MonthsInRepayment</th>\n",
       "    </tr>\n",
       "    <tr>\n",
       "      <th></th>\n",
       "      <th></th>\n",
       "      <th></th>\n",
       "      <th></th>\n",
       "      <th>count</th>\n",
       "      <th>mean</th>\n",
       "      <th>std</th>\n",
       "      <th>min</th>\n",
       "      <th>25%</th>\n",
       "      <th>50%</th>\n",
       "      <th>75%</th>\n",
       "      <th>max</th>\n",
       "      <th>count</th>\n",
       "      <th>mean</th>\n",
       "      <th>...</th>\n",
       "      <th>75%</th>\n",
       "      <th>max</th>\n",
       "      <th>count</th>\n",
       "      <th>mean</th>\n",
       "      <th>std</th>\n",
       "      <th>min</th>\n",
       "      <th>25%</th>\n",
       "      <th>50%</th>\n",
       "      <th>75%</th>\n",
       "      <th>max</th>\n",
       "    </tr>\n",
       "    <tr>\n",
       "      <th>CreditRange</th>\n",
       "      <th>IsFirstTime</th>\n",
       "      <th>LTV_range</th>\n",
       "      <th>Repay_range</th>\n",
       "      <th></th>\n",
       "      <th></th>\n",
       "      <th></th>\n",
       "      <th></th>\n",
       "      <th></th>\n",
       "      <th></th>\n",
       "      <th></th>\n",
       "      <th></th>\n",
       "      <th></th>\n",
       "      <th></th>\n",
       "      <th></th>\n",
       "      <th></th>\n",
       "      <th></th>\n",
       "      <th></th>\n",
       "      <th></th>\n",
       "      <th></th>\n",
       "      <th></th>\n",
       "      <th></th>\n",
       "      <th></th>\n",
       "      <th></th>\n",
       "      <th></th>\n",
       "    </tr>\n",
       "  </thead>\n",
       "  <tbody>\n",
       "    <tr>\n",
       "      <th rowspan=\"5\" valign=\"top\">1</th>\n",
       "      <th rowspan=\"5\" valign=\"top\">0</th>\n",
       "      <th rowspan=\"5\" valign=\"top\">Low</th>\n",
       "      <th>0-4yrs</th>\n",
       "      <td>17.0</td>\n",
       "      <td>627.529412</td>\n",
       "      <td>19.824599</td>\n",
       "      <td>574.0</td>\n",
       "      <td>617.0</td>\n",
       "      <td>630.0</td>\n",
       "      <td>645.0</td>\n",
       "      <td>650.0</td>\n",
       "      <td>17.0</td>\n",
       "      <td>0.000000</td>\n",
       "      <td>...</td>\n",
       "      <td>0.00</td>\n",
       "      <td>4.0</td>\n",
       "      <td>17.0</td>\n",
       "      <td>33.294118</td>\n",
       "      <td>9.700288</td>\n",
       "      <td>12.0</td>\n",
       "      <td>25.0</td>\n",
       "      <td>33.0</td>\n",
       "      <td>41.0</td>\n",
       "      <td>46.0</td>\n",
       "    </tr>\n",
       "    <tr>\n",
       "      <th>4-8yrs</th>\n",
       "      <td>13.0</td>\n",
       "      <td>635.384615</td>\n",
       "      <td>13.859644</td>\n",
       "      <td>599.0</td>\n",
       "      <td>630.0</td>\n",
       "      <td>633.0</td>\n",
       "      <td>647.0</td>\n",
       "      <td>650.0</td>\n",
       "      <td>13.0</td>\n",
       "      <td>0.000000</td>\n",
       "      <td>...</td>\n",
       "      <td>0.00</td>\n",
       "      <td>11.0</td>\n",
       "      <td>13.0</td>\n",
       "      <td>60.076923</td>\n",
       "      <td>13.683698</td>\n",
       "      <td>49.0</td>\n",
       "      <td>51.0</td>\n",
       "      <td>54.0</td>\n",
       "      <td>65.0</td>\n",
       "      <td>93.0</td>\n",
       "    </tr>\n",
       "    <tr>\n",
       "      <th>8-12yrs</th>\n",
       "      <td>3.0</td>\n",
       "      <td>637.333333</td>\n",
       "      <td>7.094599</td>\n",
       "      <td>631.0</td>\n",
       "      <td>633.5</td>\n",
       "      <td>636.0</td>\n",
       "      <td>640.5</td>\n",
       "      <td>645.0</td>\n",
       "      <td>3.0</td>\n",
       "      <td>0.000000</td>\n",
       "      <td>...</td>\n",
       "      <td>0.00</td>\n",
       "      <td>0.0</td>\n",
       "      <td>3.0</td>\n",
       "      <td>123.333333</td>\n",
       "      <td>10.115994</td>\n",
       "      <td>117.0</td>\n",
       "      <td>117.5</td>\n",
       "      <td>118.0</td>\n",
       "      <td>126.5</td>\n",
       "      <td>135.0</td>\n",
       "    </tr>\n",
       "    <tr>\n",
       "      <th>12-16yrs</th>\n",
       "      <td>2.0</td>\n",
       "      <td>608.000000</td>\n",
       "      <td>35.355339</td>\n",
       "      <td>583.0</td>\n",
       "      <td>595.5</td>\n",
       "      <td>608.0</td>\n",
       "      <td>620.5</td>\n",
       "      <td>633.0</td>\n",
       "      <td>2.0</td>\n",
       "      <td>0.000000</td>\n",
       "      <td>...</td>\n",
       "      <td>0.75</td>\n",
       "      <td>1.0</td>\n",
       "      <td>2.0</td>\n",
       "      <td>173.000000</td>\n",
       "      <td>22.627417</td>\n",
       "      <td>157.0</td>\n",
       "      <td>165.0</td>\n",
       "      <td>173.0</td>\n",
       "      <td>181.0</td>\n",
       "      <td>189.0</td>\n",
       "    </tr>\n",
       "    <tr>\n",
       "      <th>16-20yrs</th>\n",
       "      <td>1.0</td>\n",
       "      <td>631.000000</td>\n",
       "      <td>NaN</td>\n",
       "      <td>631.0</td>\n",
       "      <td>631.0</td>\n",
       "      <td>631.0</td>\n",
       "      <td>631.0</td>\n",
       "      <td>631.0</td>\n",
       "      <td>1.0</td>\n",
       "      <td>0.000000</td>\n",
       "      <td>...</td>\n",
       "      <td>93.00</td>\n",
       "      <td>93.0</td>\n",
       "      <td>1.0</td>\n",
       "      <td>193.000000</td>\n",
       "      <td>NaN</td>\n",
       "      <td>193.0</td>\n",
       "      <td>193.0</td>\n",
       "      <td>193.0</td>\n",
       "      <td>193.0</td>\n",
       "      <td>193.0</td>\n",
       "    </tr>\n",
       "    <tr>\n",
       "      <th>...</th>\n",
       "      <th>...</th>\n",
       "      <th>...</th>\n",
       "      <th>...</th>\n",
       "      <td>...</td>\n",
       "      <td>...</td>\n",
       "      <td>...</td>\n",
       "      <td>...</td>\n",
       "      <td>...</td>\n",
       "      <td>...</td>\n",
       "      <td>...</td>\n",
       "      <td>...</td>\n",
       "      <td>...</td>\n",
       "      <td>...</td>\n",
       "      <td>...</td>\n",
       "      <td>...</td>\n",
       "      <td>...</td>\n",
       "      <td>...</td>\n",
       "      <td>...</td>\n",
       "      <td>...</td>\n",
       "      <td>...</td>\n",
       "      <td>...</td>\n",
       "      <td>...</td>\n",
       "      <td>...</td>\n",
       "      <td>...</td>\n",
       "    </tr>\n",
       "    <tr>\n",
       "      <th rowspan=\"5\" valign=\"top\">4</th>\n",
       "      <th rowspan=\"5\" valign=\"top\">1</th>\n",
       "      <th rowspan=\"5\" valign=\"top\">High</th>\n",
       "      <th>0-4yrs</th>\n",
       "      <td>3064.0</td>\n",
       "      <td>771.980418</td>\n",
       "      <td>20.469600</td>\n",
       "      <td>751.0</td>\n",
       "      <td>758.0</td>\n",
       "      <td>767.0</td>\n",
       "      <td>779.0</td>\n",
       "      <td>850.0</td>\n",
       "      <td>3064.0</td>\n",
       "      <td>15.755548</td>\n",
       "      <td>...</td>\n",
       "      <td>0.00</td>\n",
       "      <td>30.0</td>\n",
       "      <td>3064.0</td>\n",
       "      <td>34.667428</td>\n",
       "      <td>11.558622</td>\n",
       "      <td>1.0</td>\n",
       "      <td>27.0</td>\n",
       "      <td>38.0</td>\n",
       "      <td>44.0</td>\n",
       "      <td>48.0</td>\n",
       "    </tr>\n",
       "    <tr>\n",
       "      <th>4-8yrs</th>\n",
       "      <td>2211.0</td>\n",
       "      <td>773.217096</td>\n",
       "      <td>21.222137</td>\n",
       "      <td>751.0</td>\n",
       "      <td>759.0</td>\n",
       "      <td>768.0</td>\n",
       "      <td>780.0</td>\n",
       "      <td>850.0</td>\n",
       "      <td>2211.0</td>\n",
       "      <td>15.331976</td>\n",
       "      <td>...</td>\n",
       "      <td>0.00</td>\n",
       "      <td>53.0</td>\n",
       "      <td>2211.0</td>\n",
       "      <td>59.054726</td>\n",
       "      <td>11.075070</td>\n",
       "      <td>49.0</td>\n",
       "      <td>51.0</td>\n",
       "      <td>54.0</td>\n",
       "      <td>63.0</td>\n",
       "      <td>96.0</td>\n",
       "    </tr>\n",
       "    <tr>\n",
       "      <th>8-12yrs</th>\n",
       "      <td>476.0</td>\n",
       "      <td>775.466387</td>\n",
       "      <td>19.709493</td>\n",
       "      <td>751.0</td>\n",
       "      <td>761.0</td>\n",
       "      <td>772.0</td>\n",
       "      <td>786.0</td>\n",
       "      <td>850.0</td>\n",
       "      <td>476.0</td>\n",
       "      <td>10.836134</td>\n",
       "      <td>...</td>\n",
       "      <td>0.00</td>\n",
       "      <td>91.0</td>\n",
       "      <td>476.0</td>\n",
       "      <td>120.754202</td>\n",
       "      <td>13.583755</td>\n",
       "      <td>97.0</td>\n",
       "      <td>109.0</td>\n",
       "      <td>120.0</td>\n",
       "      <td>132.0</td>\n",
       "      <td>144.0</td>\n",
       "    </tr>\n",
       "    <tr>\n",
       "      <th>12-16yrs</th>\n",
       "      <td>315.0</td>\n",
       "      <td>778.028571</td>\n",
       "      <td>20.841130</td>\n",
       "      <td>751.0</td>\n",
       "      <td>764.5</td>\n",
       "      <td>774.0</td>\n",
       "      <td>787.0</td>\n",
       "      <td>850.0</td>\n",
       "      <td>315.0</td>\n",
       "      <td>10.717460</td>\n",
       "      <td>...</td>\n",
       "      <td>0.00</td>\n",
       "      <td>92.0</td>\n",
       "      <td>315.0</td>\n",
       "      <td>165.476190</td>\n",
       "      <td>13.424781</td>\n",
       "      <td>145.0</td>\n",
       "      <td>153.5</td>\n",
       "      <td>165.0</td>\n",
       "      <td>176.0</td>\n",
       "      <td>191.0</td>\n",
       "    </tr>\n",
       "    <tr>\n",
       "      <th>16-20yrs</th>\n",
       "      <td>241.0</td>\n",
       "      <td>784.340249</td>\n",
       "      <td>27.568105</td>\n",
       "      <td>751.0</td>\n",
       "      <td>765.0</td>\n",
       "      <td>779.0</td>\n",
       "      <td>792.0</td>\n",
       "      <td>850.0</td>\n",
       "      <td>241.0</td>\n",
       "      <td>9.921162</td>\n",
       "      <td>...</td>\n",
       "      <td>1.00</td>\n",
       "      <td>118.0</td>\n",
       "      <td>241.0</td>\n",
       "      <td>208.224066</td>\n",
       "      <td>4.822646</td>\n",
       "      <td>193.0</td>\n",
       "      <td>209.0</td>\n",
       "      <td>210.0</td>\n",
       "      <td>211.0</td>\n",
       "      <td>212.0</td>\n",
       "    </tr>\n",
       "  </tbody>\n",
       "</table>\n",
       "<p>110 rows × 96 columns</p>\n",
       "</div>"
      ],
      "text/plain": [
       "                                                   CS                         \\\n",
       "                                                count        mean        std   \n",
       "CreditRange IsFirstTime LTV_range Repay_range                                  \n",
       "1           0           Low       0-4yrs         17.0  627.529412  19.824599   \n",
       "                                  4-8yrs         13.0  635.384615  13.859644   \n",
       "                                  8-12yrs         3.0  637.333333   7.094599   \n",
       "                                  12-16yrs        2.0  608.000000  35.355339   \n",
       "                                  16-20yrs        1.0  631.000000        NaN   \n",
       "...                                               ...         ...        ...   \n",
       "4           1           High      0-4yrs       3064.0  771.980418  20.469600   \n",
       "                                  4-8yrs       2211.0  773.217096  21.222137   \n",
       "                                  8-12yrs       476.0  775.466387  19.709493   \n",
       "                                  12-16yrs      315.0  778.028571  20.841130   \n",
       "                                  16-20yrs      241.0  784.340249  27.568105   \n",
       "\n",
       "                                                                           \\\n",
       "                                                 min    25%    50%    75%   \n",
       "CreditRange IsFirstTime LTV_range Repay_range                               \n",
       "1           0           Low       0-4yrs       574.0  617.0  630.0  645.0   \n",
       "                                  4-8yrs       599.0  630.0  633.0  647.0   \n",
       "                                  8-12yrs      631.0  633.5  636.0  640.5   \n",
       "                                  12-16yrs     583.0  595.5  608.0  620.5   \n",
       "                                  16-20yrs     631.0  631.0  631.0  631.0   \n",
       "...                                              ...    ...    ...    ...   \n",
       "4           1           High      0-4yrs       751.0  758.0  767.0  779.0   \n",
       "                                  4-8yrs       751.0  759.0  768.0  780.0   \n",
       "                                  8-12yrs      751.0  761.0  772.0  786.0   \n",
       "                                  12-16yrs     751.0  764.5  774.0  787.0   \n",
       "                                  16-20yrs     751.0  765.0  779.0  792.0   \n",
       "\n",
       "                                                         MIP             ...  \\\n",
       "                                                 max   count       mean  ...   \n",
       "CreditRange IsFirstTime LTV_range Repay_range                            ...   \n",
       "1           0           Low       0-4yrs       650.0    17.0   0.000000  ...   \n",
       "                                  4-8yrs       650.0    13.0   0.000000  ...   \n",
       "                                  8-12yrs      645.0     3.0   0.000000  ...   \n",
       "                                  12-16yrs     633.0     2.0   0.000000  ...   \n",
       "                                  16-20yrs     631.0     1.0   0.000000  ...   \n",
       "...                                              ...     ...        ...  ...   \n",
       "4           1           High      0-4yrs       850.0  3064.0  15.755548  ...   \n",
       "                                  4-8yrs       850.0  2211.0  15.331976  ...   \n",
       "                                  8-12yrs      850.0   476.0  10.836134  ...   \n",
       "                                  12-16yrs     850.0   315.0  10.717460  ...   \n",
       "                                  16-20yrs     850.0   241.0   9.921162  ...   \n",
       "\n",
       "                                              MonthsDelinquent         \\\n",
       "                                                           75%    max   \n",
       "CreditRange IsFirstTime LTV_range Repay_range                           \n",
       "1           0           Low       0-4yrs                  0.00    4.0   \n",
       "                                  4-8yrs                  0.00   11.0   \n",
       "                                  8-12yrs                 0.00    0.0   \n",
       "                                  12-16yrs                0.75    1.0   \n",
       "                                  16-20yrs               93.00   93.0   \n",
       "...                                                        ...    ...   \n",
       "4           1           High      0-4yrs                  0.00   30.0   \n",
       "                                  4-8yrs                  0.00   53.0   \n",
       "                                  8-12yrs                 0.00   91.0   \n",
       "                                  12-16yrs                0.00   92.0   \n",
       "                                  16-20yrs                1.00  118.0   \n",
       "\n",
       "                                              MonthsInRepayment              \\\n",
       "                                                          count        mean   \n",
       "CreditRange IsFirstTime LTV_range Repay_range                                 \n",
       "1           0           Low       0-4yrs                   17.0   33.294118   \n",
       "                                  4-8yrs                   13.0   60.076923   \n",
       "                                  8-12yrs                   3.0  123.333333   \n",
       "                                  12-16yrs                  2.0  173.000000   \n",
       "                                  16-20yrs                  1.0  193.000000   \n",
       "...                                                         ...         ...   \n",
       "4           1           High      0-4yrs                 3064.0   34.667428   \n",
       "                                  4-8yrs                 2211.0   59.054726   \n",
       "                                  8-12yrs                 476.0  120.754202   \n",
       "                                  12-16yrs                315.0  165.476190   \n",
       "                                  16-20yrs                241.0  208.224066   \n",
       "\n",
       "                                                                               \\\n",
       "                                                     std    min    25%    50%   \n",
       "CreditRange IsFirstTime LTV_range Repay_range                                   \n",
       "1           0           Low       0-4yrs        9.700288   12.0   25.0   33.0   \n",
       "                                  4-8yrs       13.683698   49.0   51.0   54.0   \n",
       "                                  8-12yrs      10.115994  117.0  117.5  118.0   \n",
       "                                  12-16yrs     22.627417  157.0  165.0  173.0   \n",
       "                                  16-20yrs           NaN  193.0  193.0  193.0   \n",
       "...                                                  ...    ...    ...    ...   \n",
       "4           1           High      0-4yrs       11.558622    1.0   27.0   38.0   \n",
       "                                  4-8yrs       11.075070   49.0   51.0   54.0   \n",
       "                                  8-12yrs      13.583755   97.0  109.0  120.0   \n",
       "                                  12-16yrs     13.424781  145.0  153.5  165.0   \n",
       "                                  16-20yrs      4.822646  193.0  209.0  210.0   \n",
       "\n",
       "                                                             \n",
       "                                                 75%    max  \n",
       "CreditRange IsFirstTime LTV_range Repay_range                \n",
       "1           0           Low       0-4yrs        41.0   46.0  \n",
       "                                  4-8yrs        65.0   93.0  \n",
       "                                  8-12yrs      126.5  135.0  \n",
       "                                  12-16yrs     181.0  189.0  \n",
       "                                  16-20yrs     193.0  193.0  \n",
       "...                                              ...    ...  \n",
       "4           1           High      0-4yrs        44.0   48.0  \n",
       "                                  4-8yrs        63.0   96.0  \n",
       "                                  8-12yrs      132.0  144.0  \n",
       "                                  12-16yrs     176.0  191.0  \n",
       "                                  16-20yrs     211.0  212.0  \n",
       "\n",
       "[110 rows x 96 columns]"
      ]
     },
     "execution_count": 29,
     "metadata": {},
     "output_type": "execute_result"
    }
   ],
   "source": [
    "# Now we will make group of our dataframe by these ranges.\n",
    "data_grouped = data.groupby(by=['CreditRange'])\n",
    "data_grouped = data.groupby(by=['CreditRange','LTV_range'])\n",
    "data_grouped = data.groupby(by=['Repay_range'])\n",
    "data_grouped = data.groupby(by=['CreditRange','IsFirstTime','LTV_range','Repay_range'])\n",
    "data_grouped.describe()"
   ]
  },
  {
   "cell_type": "code",
   "execution_count": 30,
   "id": "98e3c5f1",
   "metadata": {},
   "outputs": [],
   "source": [
    "data_imputed = data_grouped.transform(lambda grp: grp.fillna(grp.median()))\n",
    "data_imputed[['IsFirstTime','EverDelinquent']] = data[['IsFirstTime','EverDelinquent']]\n",
    "data.dropna(inplace=True)"
   ]
  },
  {
   "cell_type": "code",
   "execution_count": 31,
   "id": "87427ebd",
   "metadata": {},
   "outputs": [
    {
     "data": {
      "text/plain": [
       "count     212905\n",
       "unique         4\n",
       "top            3\n",
       "freq       72678\n",
       "Name: CreditRange, dtype: int64"
      ]
     },
     "execution_count": 31,
     "metadata": {},
     "output_type": "execute_result"
    }
   ],
   "source": [
    "# Slicing the CreditScore\n",
    "data_imputed['CreditRange'] = pd.cut(data_imputed.CS,[550,650,700,750,1e6],4,labels=[1,2,3,4])\n",
    "data_imputed.CreditRange.describe()"
   ]
  },
  {
   "cell_type": "code",
   "execution_count": 32,
   "id": "207ce2d6",
   "metadata": {},
   "outputs": [
    {
     "data": {
      "text/plain": [
       "count     212905\n",
       "unique         3\n",
       "top         high\n",
       "freq      198358\n",
       "Name: LTV_range, dtype: object"
      ]
     },
     "execution_count": 32,
     "metadata": {},
     "output_type": "execute_result"
    }
   ],
   "source": [
    "# Slicing the LTV\n",
    "data_imputed['LTV_range'] = pd.cut(data_imputed.LTV,[0,25,50,110],3,labels=['low','medium','high']) \n",
    "data_imputed.LTV_range.describe()"
   ]
  },
  {
   "cell_type": "code",
   "execution_count": 33,
   "id": "ffe76fde",
   "metadata": {},
   "outputs": [
    {
     "data": {
      "text/plain": [
       "count     212905\n",
       "unique         5\n",
       "top       0-4yrs\n",
       "freq      108653\n",
       "Name: Repay_range, dtype: object"
      ]
     },
     "execution_count": 33,
     "metadata": {},
     "output_type": "execute_result"
    }
   ],
   "source": [
    "# Taking slices of the MonthsInRepayment\n",
    "data_imputed['Repay_range'] = pd.cut(data_imputed.MonthsInRepayment,[0,48,96,144,192,240],5,labels=['0-4yrs','4-8yrs','8-12yrs', '12-16yrs', '16-20yrs'])\n",
    "data_imputed.Repay_range.describe()"
   ]
  },
  {
   "cell_type": "code",
   "execution_count": 34,
   "id": "a312ea9e",
   "metadata": {},
   "outputs": [
    {
     "name": "stdout",
     "output_type": "stream",
     "text": [
      "<class 'pandas.core.frame.DataFrame'>\n",
      "Int64Index: 212905 entries, 0 to 291450\n",
      "Data columns (total 16 columns):\n",
      " #   Column             Non-Null Count   Dtype   \n",
      "---  ------             --------------   -----   \n",
      " 0   CS                 212905 non-null  int64   \n",
      " 1   MIP                212905 non-null  int64   \n",
      " 2   Units              212905 non-null  int64   \n",
      " 3   OCLTV              212905 non-null  int64   \n",
      " 4   DTI                212905 non-null  int64   \n",
      " 5   OrigUPB            212905 non-null  int64   \n",
      " 6   LTV                212905 non-null  int64   \n",
      " 7   OrigInterestRate   212905 non-null  float64 \n",
      " 8   OrigLoanTerm       212905 non-null  int64   \n",
      " 9   EverDelinquent     212905 non-null  int64   \n",
      " 10  MonthsDelinquent   212905 non-null  int64   \n",
      " 11  MonthsInRepayment  212905 non-null  int64   \n",
      " 12  IsFirstTime        212905 non-null  int32   \n",
      " 13  CreditRange        212905 non-null  category\n",
      " 14  LTV_range          212905 non-null  category\n",
      " 15  Repay_range        212905 non-null  category\n",
      "dtypes: category(3), float64(1), int32(1), int64(11)\n",
      "memory usage: 22.5 MB\n"
     ]
    }
   ],
   "source": [
    "data_imputed.head()\n",
    "data_imputed.info()"
   ]
  },
  {
   "cell_type": "code",
   "execution_count": 35,
   "id": "9d4143ae",
   "metadata": {},
   "outputs": [],
   "source": [
    "# Finding relationship between different data variables."
   ]
  },
  {
   "cell_type": "code",
   "execution_count": 36,
   "id": "b64ede10",
   "metadata": {},
   "outputs": [
    {
     "data": {
      "text/plain": [
       "<AxesSubplot:>"
      ]
     },
     "execution_count": 36,
     "metadata": {},
     "output_type": "execute_result"
    },
    {
     "data": {
      "image/png": "[encoded data removed]",
      "text/plain": [
       "<Figure size 720x360 with 2 Axes>"
      ]
     },
     "metadata": {
      "needs_background": "light"
     },
     "output_type": "display_data"
    }
   ],
   "source": [
    "plt.figure(figsize=(10,5))\n",
    "corelation=data.corr()\n",
    "sns.heatmap(corelation,xticklabels=corelation.columns,yticklabels=corelation.columns,annot=True)"
   ]
  },
  {
   "cell_type": "code",
   "execution_count": 37,
   "id": "6d82847b",
   "metadata": {},
   "outputs": [],
   "source": [
    "# The above graph shows that the relation between different columns."
   ]
  },
  {
   "cell_type": "code",
   "execution_count": 38,
   "id": "e13a030d",
   "metadata": {},
   "outputs": [],
   "source": [
    "X=data.drop(['CreditRange','EverDelinquent','Repay_range','LTV_range'],axis=1)\n",
    "y=data['EverDelinquent']"
   ]
  },
  {
   "cell_type": "code",
   "execution_count": 39,
   "id": "86f0ee6f",
   "metadata": {},
   "outputs": [],
   "source": [
    "# Modelling of the data\n",
    "# Random Forest Classifier"
   ]
  },
  {
   "cell_type": "code",
   "execution_count": 40,
   "id": "4eddb367",
   "metadata": {},
   "outputs": [],
   "source": [
    "from sklearn.model_selection import train_test_split"
   ]
  },
  {
   "cell_type": "code",
   "execution_count": 41,
   "id": "8b4bab4f",
   "metadata": {},
   "outputs": [],
   "source": [
    "X_train, X_test, y_train, y_test=train_test_split( X, y , train_size=0.8 ,test_size=0.2 , random_state=42 )"
   ]
  },
  {
   "cell_type": "code",
   "execution_count": 42,
   "id": "30848f70",
   "metadata": {},
   "outputs": [
    {
     "name": "stdout",
     "output_type": "stream",
     "text": [
      "(170324, 12)\n",
      "(42581, 12)\n"
     ]
    }
   ],
   "source": [
    "print(X_train.shape)\n",
    "print(X_test.shape)"
   ]
  },
  {
   "cell_type": "code",
   "execution_count": 43,
   "id": "d0beb4b9",
   "metadata": {},
   "outputs": [],
   "source": [
    "from sklearn.preprocessing import StandardScaler\n",
    "sc=StandardScaler()\n",
    "X_train=sc.fit_transform(X_train)\n",
    "X_test=sc.transform(X_test)"
   ]
  },
  {
   "cell_type": "code",
   "execution_count": 44,
   "id": "83ae868f",
   "metadata": {},
   "outputs": [
    {
     "name": "stdout",
     "output_type": "stream",
     "text": [
      "177505    0\n",
      "62896     1\n",
      "286248    0\n",
      "222746    1\n",
      "98114     1\n",
      "         ..\n",
      "164062    1\n",
      "141985    1\n",
      "180404    0\n",
      "200570    0\n",
      "166846    0\n",
      "Name: EverDelinquent, Length: 170324, dtype: int64\n"
     ]
    }
   ],
   "source": [
    "print(y_train)"
   ]
  },
  {
   "cell_type": "code",
   "execution_count": 45,
   "id": "e0a039a6",
   "metadata": {},
   "outputs": [
    {
     "data": {
      "text/plain": [
       "RandomForestClassifier(criterion='entropy', max_depth=3, n_estimators=10)"
      ]
     },
     "execution_count": 45,
     "metadata": {},
     "output_type": "execute_result"
    }
   ],
   "source": [
    "from sklearn.ensemble import RandomForestClassifier\n",
    "model_rf=RandomForestClassifier(n_estimators=10, criterion='entropy', max_depth = 3)\n",
    "model_rf.fit(X_train,y_train)"
   ]
  },
  {
   "cell_type": "code",
   "execution_count": 46,
   "id": "af1d7d9a",
   "metadata": {},
   "outputs": [],
   "source": [
    "y_predict_rf=model_rf.predict(X_test)"
   ]
  },
  {
   "cell_type": "code",
   "execution_count": 47,
   "id": "34f905c9",
   "metadata": {},
   "outputs": [
    {
     "name": "stdout",
     "output_type": "stream",
     "text": [
      "[[34390     0]\n",
      " [   11  8180]]\n"
     ]
    }
   ],
   "source": [
    "from sklearn.metrics import confusion_matrix, accuracy_score, classification_report\n",
    "cm_rf=confusion_matrix(y_test,y_predict_rf)\n",
    "print(cm_rf)"
   ]
  },
  {
   "cell_type": "code",
   "execution_count": 48,
   "id": "887f4972",
   "metadata": {},
   "outputs": [
    {
     "data": {
      "text/plain": [
       "0.9997416688194265"
      ]
     },
     "execution_count": 48,
     "metadata": {},
     "output_type": "execute_result"
    }
   ],
   "source": [
    "accuracy_score(y_test,y_predict_rf)"
   ]
  },
  {
   "cell_type": "code",
   "execution_count": 49,
   "id": "0ba397a0",
   "metadata": {},
   "outputs": [
    {
     "name": "stdout",
     "output_type": "stream",
     "text": [
      "              precision    recall  f1-score   support\n",
      "\n",
      "           0       1.00      1.00      1.00     34390\n",
      "           1       1.00      1.00      1.00      8191\n",
      "\n",
      "    accuracy                           1.00     42581\n",
      "   macro avg       1.00      1.00      1.00     42581\n",
      "weighted avg       1.00      1.00      1.00     42581\n",
      "\n"
     ]
    }
   ],
   "source": [
    "print(classification_report(y_test,y_predict_rf))"
   ]
  },
  {
   "cell_type": "code",
   "execution_count": 50,
   "id": "1ac81c49",
   "metadata": {},
   "outputs": [],
   "source": [
    "# Support Vector Machine"
   ]
  },
  {
   "cell_type": "code",
   "execution_count": 51,
   "id": "35f64129",
   "metadata": {},
   "outputs": [],
   "source": [
    "from sklearn.svm import SVC"
   ]
  },
  {
   "cell_type": "code",
   "execution_count": 52,
   "id": "fe978bbc",
   "metadata": {},
   "outputs": [],
   "source": [
    "model_svm=SVC(kernel='rbf', random_state = None, verbose = True)"
   ]
  },
  {
   "cell_type": "code",
   "execution_count": 53,
   "id": "9708a9d3",
   "metadata": {},
   "outputs": [
    {
     "name": "stdout",
     "output_type": "stream",
     "text": [
      "[LibSVM]"
     ]
    },
    {
     "data": {
      "text/plain": [
       "SVC(verbose=True)"
      ]
     },
     "execution_count": 53,
     "metadata": {},
     "output_type": "execute_result"
    }
   ],
   "source": [
    "model_svm.fit(X_train,y_train)"
   ]
  },
  {
   "cell_type": "code",
   "execution_count": 54,
   "id": "15e2ea6a",
   "metadata": {},
   "outputs": [],
   "source": [
    "y_predict_svm=model_svm.predict(X_test)"
   ]
  },
  {
   "cell_type": "code",
   "execution_count": 55,
   "id": "5fc5d718",
   "metadata": {},
   "outputs": [
    {
     "name": "stdout",
     "output_type": "stream",
     "text": [
      "[[34389     1]\n",
      " [  188  8003]]\n"
     ]
    }
   ],
   "source": [
    "cm_svm=confusion_matrix(y_test,y_predict_svm)\n",
    "print(cm_svm)"
   ]
  },
  {
   "cell_type": "code",
   "execution_count": 56,
   "id": "0a292e80",
   "metadata": {},
   "outputs": [
    {
     "data": {
      "text/plain": [
       "0.9955614006246918"
      ]
     },
     "execution_count": 56,
     "metadata": {},
     "output_type": "execute_result"
    }
   ],
   "source": [
    "accuracy_score(y_test,y_predict_svm)"
   ]
  },
  {
   "cell_type": "code",
   "execution_count": 57,
   "id": "b76312af",
   "metadata": {},
   "outputs": [
    {
     "name": "stdout",
     "output_type": "stream",
     "text": [
      "              precision    recall  f1-score   support\n",
      "\n",
      "           0       1.00      1.00      1.00     34390\n",
      "           1       1.00      1.00      1.00      8191\n",
      "\n",
      "    accuracy                           1.00     42581\n",
      "   macro avg       1.00      1.00      1.00     42581\n",
      "weighted avg       1.00      1.00      1.00     42581\n",
      "\n"
     ]
    }
   ],
   "source": [
    "print(classification_report(y_test,y_predict_rf))"
   ]
  },
  {
   "cell_type": "code",
   "execution_count": null,
   "id": "5da3d047",
   "metadata": {},
   "outputs": [],
   "source": []
  }
 ],
 "metadata": {
  "kernelspec": {
   "display_name": "Python 3 (ipykernel)",
   "language": "python",
   "name": "python3"
  },
  "language_info": {
   "codemirror_mode": {
    "name": "ipython",
    "version": 3
   },
   "file_extension": ".py",
   "mimetype": "text/x-python",
   "name": "python",
   "nbconvert_exporter": "python",
   "pygments_lexer": "ipython3",
   "version": "3.10.2"
  }
 },
 "nbformat": 4,
 "nbformat_minor": 5
}
